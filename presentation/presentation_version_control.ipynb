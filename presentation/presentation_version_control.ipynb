{
 "cells": [
  {
   "cell_type": "code",
   "execution_count": null,
   "metadata": {
    "slideshow": {
     "slide_type": "skip"
    }
   },
   "outputs": [],
   "source": [
    "# build presentation from command line\n",
    "# jupyter nbconvert presentation_version_control.ipynb --to slides --post serve  --SlidesExporter.reveal_transition=none"
   ]
  },
  {
   "cell_type": "code",
   "execution_count": 1,
   "metadata": {
    "slideshow": {
     "slide_type": "skip"
    }
   },
   "outputs": [],
   "source": [
    "# --- presentation version control\n",
    "# by: marco and valeria\n",
    "# with love"
   ]
  },
  {
   "cell_type": "markdown",
   "metadata": {
    "slideshow": {
     "slide_type": "slide"
    }
   },
   "source": [
    "<h1 style=\"color:#00BDFF;font-size:60px\"> Version control with Git: Fundamentals </h1>\n",
    "<p style=\"color:#acb1bd;font-size:40px\"> by: Marco and Valeria </p>"
   ]
  },
  {
   "cell_type": "markdown",
   "metadata": {
    "slideshow": {
     "slide_type": "slide"
    }
   },
   "source": [
    "<h1 style=\"color:#00BDFF;font-size:30px\"> Why version control? </h1>\n",
    "<p style=\"font-size:20px\"> Has this ever happened to you? </p>"
   ]
  },
  {
   "cell_type": "markdown",
   "metadata": {
    "slideshow": {
     "slide_type": "subslide"
    }
   },
   "source": [
    "<div style=\"text-align: center;\">\n",
    "<img src=\"assets/illlustrations/problematic_workflow1.png\" width=\"40%\">\n",
    "</div>\n",
    "<p style=\"font-size:30px\"> The project is the production of a report and you start it </p>\n",
    "<p style=\"font-size:20px\"> <em> Natural instinct </em>: create the first version naming it <em>\"v1\"</em> </p>    "
   ]
  },
  {
   "cell_type": "markdown",
   "metadata": {
    "slideshow": {
     "slide_type": "subslide"
    }
   },
   "source": [
    "<div style=\"text-align: center;\">\n",
    "<img src=\"assets/illlustrations/problematic_workflow2.png\" width=\"40%\">\n",
    "</div>\n",
    "<p style=\"font-size:30px\"> You send it to Ana and Bob for their parts and revision, <b> while you keep working on it also</b> </p>\n",
    "<p style=\"font-size:20px\"> <em> Natural instinct </em>: Ana and Bob produce their part and name it accordingly <b> to avoid confusion</b> </p>"
   ]
  },
  {
   "cell_type": "markdown",
   "metadata": {
    "slideshow": {
     "slide_type": "subslide"
    }
   },
   "source": [
    "<div style=\"text-align: center;\">\n",
    "<img src=\"assets/illlustrations/problematic_workflow3.png\" width=\"40%\">\n",
    "</div>\n",
    "<p style=\"font-size:30px\"> The project now exists in <b> 3 different versions</b>, probably all of them at different stages of progress </p>"
   ]
  },
  {
   "cell_type": "markdown",
   "metadata": {
    "slideshow": {
     "slide_type": "subslide"
    }
   },
   "source": [
    "<div style=\"text-align: center;\">\n",
    "<img src=\"assets/illlustrations/problematic_workflow4.png\" width=\"40%\">\n",
    "</div>\n",
    "<p style=\"font-size:30px\"> You or someone else has to put them all together <b>manually</b> and probably with <b>a lot of confusion</b> prone to errors!</p>"
   ]
  },
  {
   "cell_type": "markdown",
   "metadata": {
    "slideshow": {
     "slide_type": "subslide"
    }
   },
   "source": [
    "<h1 style=\"color:#00BDFF;font-size:30px\"> Now what?: A better approach </h1> \n",
    "\n",
    "\n",
    "\n",
    "<ul style=\"color:#000000;font-size:20px\">\n",
    "  <li> Define and design project with structure: parts and how they interact </li>  \n",
    "  <li> Finally avoid thousands of versions and their storage for the same file(s) </li>\n",
    "  <li> Document changes as the files are built so you know what you've done and can go back to previous versions </li>\n",
    "  <li> We're never really working alone. Collaborate effectively with other people when making projects</li>\n",
    "</ul>  \n",
    "\n",
    "<br>\n",
    "<br>\n",
    "\n",
    "<p style=\"color:#898b8e;font-size:20px;font-style: italic\"> \"Never lose <b>control</b> on what you're doing\" - MV </p> \n",
    "\n",
    "\n",
    "\n"
   ]
  },
  {
   "cell_type": "markdown",
   "metadata": {
    "slideshow": {
     "slide_type": "slide"
    }
   },
   "source": [
    "<h1 style=\"color:#00BDFF;font-size:30px\"> What is version control?</h1>\n",
    "<p style=\"color:#898b8e;font-size:20px;font-style: italic\"> The Life‑Changing Magic of Tidying Up. Marie Kondo *(^o^)*</p> \n",
    "\n",
    "\n",
    "\n",
    "<ul style=\"color:#000000;font-size:20px\">\n",
    "  <li> Most robust paradigm for project developement: structure and organization management </li>\n",
    "  <li> System that allows to effectively track changes and merge files </li>\n",
    "  <li> It allows to connect project developers  </li>\n",
    "  <li> Projects can now live in many different places at the same time without conflict: <b>locally</b> (your computer folder) and <b>remotely</b>\n",
    "  <li> Version control is explained, applied and mostly discussed in the context of software development, but it can be used in the development of any well-structured digital project: e.g. collaborative reports, academic publications, etc. </li>\n",
    "</ul>\n",
    "<br>\n",
    "    \n",
    "    \n",
    "<p style=\"color:#898b8e;font-size:25px\"> The invisible hand of project development </p>\n",
    "    "
   ]
  },
  {
   "cell_type": "markdown",
   "metadata": {
    "slideshow": {
     "slide_type": "subslide"
    }
   },
   "source": [
    "<div style=\"text-align: center;\">\n",
    "<img src=\"assets/illlustrations/correct_workflow_fr_1.png\" width=\"50%\">\n",
    "</div>\n",
    "<p style=\"font-size:25px\"> Here's how it works! We start with the original version of the file</p>\n",
    "<br>"
   ]
  },
  {
   "cell_type": "markdown",
   "metadata": {
    "slideshow": {
     "slide_type": "skip"
    }
   },
   "source": [
    "<p style=\"font-size:30px\">From the command line..</p>\n",
    "<ul style=\"color:#000000;font-size:20px\">\n",
    "    <li><b>git clone \"https://github.com/username/repository.git\"</b> to start from an existing repository</li>\n",
    "    <li><b>git init</b> to start a local repository</li>\n",
    "</ul>"
   ]
  },
  {
   "cell_type": "markdown",
   "metadata": {
    "slideshow": {
     "slide_type": "subslide"
    }
   },
   "source": [
    "<div style=\"text-align: center;\">\n",
    "<img src=\"assets/illlustrations/correct_workflow_fr_2.png\" width=\"50%\">\n",
    "</div>\n",
    "<p style=\"font-size:25px\"> Each user gets their own independent copy </p>\n",
    "<br>"
   ]
  },
  {
   "cell_type": "markdown",
   "metadata": {
    "slideshow": {
     "slide_type": "skip"
    }
   },
   "source": [
    "<p style=\"font-size:30px\">From the command line..</p>\n",
    "<ul style=\"color:#000000;font-size:20px\">\n",
    "    <li><b>git checkout -b \"NEW_BRANCH\"</b> to create a new branch locally</li>\n",
    "    <li><b>git checkout \"EXISTING_BRANCH\"</b> to track an existing branch</li>\n",
    "</ul>"
   ]
  },
  {
   "cell_type": "markdown",
   "metadata": {
    "slideshow": {
     "slide_type": "subslide"
    }
   },
   "source": [
    "<img src=\"assets/illlustrations/correct_workflow_fr_3.png\" width=\"50%\">\n",
    "<p style=\"font-size:25px\"> Collaborators make their modifications </p>\n",
    "<br>"
   ]
  },
  {
   "cell_type": "markdown",
   "metadata": {
    "slideshow": {
     "slide_type": "skip"
    }
   },
   "source": [
    "<p style=\"font-size:30px\">After they finish to work on their files, from the command line..</p>\n",
    "<ul style=\"color:#000000;font-size:20px\">\n",
    "    <li><b>git add .</b> to stage all modified files</li>\n",
    "    <li><b>git commit -m \"commit message\"</b> to \"confirm\" the files to be tracked with a descriptive message</li>\n",
    "    <li><b>git push origin BRANCH_NAME</b> to send changes to the remote repository in your own branch without modifying main</li>\n",
    "</ul>"
   ]
  },
  {
   "cell_type": "markdown",
   "metadata": {
    "slideshow": {
     "slide_type": "subslide"
    }
   },
   "source": [
    "<div style=\"text-align: center;\">\n",
    "<img src=\"assets/illlustrations/correct_workflow_fr_4.png\" width=\"50%\">\n",
    "</div>\n",
    "<p style=\"font-size:25px\"> When Ana finishes, her work will update the existing old version of the file</p>\n",
    "<br>"
   ]
  },
  {
   "cell_type": "markdown",
   "metadata": {
    "slideshow": {
     "slide_type": "skip"
    }
   },
   "source": [
    "<p style=\"font-size:30px\">From the command line..</p>\n",
    "<ul style=\"color:#000000;font-size:20px\">\n",
    "    <li><b>git checkout main</b> to move to the main branch</li>\n",
    "    <li><b>git merge BRANCH_NAME</b> to merge her branch to the main</li>\n",
    "    <li><b>git push origin main</b> to send changes to the remote repository in main</li>\n",
    "</ul>\n",
    "<p style=\"font-size:25px\">Optional</p>\n",
    "<ul style=\"color:#000000;font-size:20px\">\n",
    "    <li><b>git branch -d BRANCH_NAME</b> to delete <em>locally</em> the branch you won't use anymore</li>\n",
    "    <li><b>git push origin :BRANCH_NAME</b> to delete the branch you won't use anymore <em>remotely</em></li>\n",
    "</ul>"
   ]
  },
  {
   "cell_type": "markdown",
   "metadata": {
    "slideshow": {
     "slide_type": "subslide"
    }
   },
   "source": [
    "<div style=\"text-align: center;\">\n",
    "<img src=\"assets/illlustrations/correct_workflow_fr_5.png\" width=\"50%\">\n",
    "</div>\n",
    "<p style=\"font-size:25px\"> When Bob finishes his work, we update the existing file, leading us to the final version of the document. Everything in <b>one single file</b>!</p>"
   ]
  },
  {
   "cell_type": "markdown",
   "metadata": {
    "slideshow": {
     "slide_type": "skip"
    }
   },
   "source": [
    "<p style=\"font-size:30px\">To summarize</p> \n",
    "<img src=\"assets/illlustrations/local_remote_summary.png\" width=\"15%\" style=\"float:right;\">\n",
    "<ul style=\"color:#000000; font-size:20px; float: left; max-width: 800px; border-right:solid 1px;\">\n",
    "    <li>You use <b>git push</b> and <b>git pull</b> to communicate between local and remote repository</li>\n",
    "    <li>Every time you start working on something new, you create a new branch (<b>git checkout -b NEW_BRANCH</b>)</li>\n",
    "    <li>You <b>git add .</b> the modified files and you <b>git commit</b> every time you need a \"checkpoint\"</li>\n",
    "    <li>When you are done working on a \"feature\" you <b>git merge</b> the branch with main</li>\n",
    "    <li>If you don't need the branch anymore <b>git branch -d(elete)</b> the branch</li>\n",
    "</ul>"
   ]
  },
  {
   "cell_type": "markdown",
   "metadata": {
    "slideshow": {
     "slide_type": "slide"
    }
   },
   "source": [
    "<h1 style=\"color:#00BDFF;font-size:30px\"> <a style=\"color:#00BDFF;font-size:30px\" href=\"https://stackoverflow.com/questions/3183064/git-vs-mercurial-vs-svn\"> Which version control system? </a></h1>\n",
    "\n",
    "\n",
    "<p style=\"color:#000000;font-size:25px\"> <b>Version control systems</b> </p>\n",
    "<p style=\"color:#000000;font-size:25px\"> <a href=\"https://git-scm.com/\"><b>Git</b></a>, <a href=\"https://www.mercurial-scm.org/wiki/QuickStart\">Mercurial</a>, <a href=\"https://subversion.apache.org/\">SVN Apache Subversion </a></p>\n",
    "\n",
    "\n",
    "<p style=\"color:#000000;font-size:25px\"> <b>Managers of remote repositories</b> </p>\n",
    "\n",
    "<ul style=\"color:#000000;font-size:20px\">\n",
    "<li><a href=\"https://github.com/\"> <b> Github</b></a></li>\n",
    "          <li><a href=\"https://bitbucket.org/\"><b>Bitbucket</b></a></li>\n",
    "          <li><a href=\"https://about.gitlab.com/\"><b>Gitlab</b></a></li>\n",
    "          <li><a href=\"https://sourceforge.net/\">SourceForge</a></li>\n",
    "          <li><a href=\"https://launchpad.net/\">Launchpad</a></li>\n",
    "      \n",
    "   \n",
    "</ul>  \n",
    "\n",
    "\n",
    "\n"
   ]
  },
  {
   "cell_type": "markdown",
   "metadata": {
    "slideshow": {
     "slide_type": "subslide"
    }
   },
   "source": [
    "<h1 style=\"color:#00BDFF;font-size:30px\"> Git </h1>\n",
    "\n",
    "\n",
    "<p style=\"color:#000000;font-size:20px\"> Git can be used as a version control system to manage your projects in their local and remote versions  </p>\n",
    "<p  style=\"color:#000000;font-size:20px\">The remote manager provides the interface to use Git (e.g. Github provides a user friendly interface to commit, merge, etc.)  </p>\n",
    "<p style=\"color:#000000;font-size:20px\">To manage the local version of your repository, you can use Git through a <b>command window</b> or rely on <b>Git user friendly interfaces</b> </p>\n",
    "\n",
    "<table width=\"100%\" border=\"0\">\n",
    "  <tr>    \n",
    "  <td><img src=\"assets/images/git_terminal.png\" alt=\"\" align=\"left\" /></td>\n",
    "  <td><img src=\"assets/images/git_gui.PNG\" alt=\"\" align=\"center\" /></td>\n",
    "  </tr>\n",
    "</table>\n",
    "\n",
    "\n"
   ]
  },
  {
   "cell_type": "markdown",
   "metadata": {
    "slideshow": {
     "slide_type": "subslide"
    }
   },
   "source": [
    "<h1 style=\"color:#00BDFF;font-size:30px\"> Version control Git basic jargon </h1>\n",
    "\n",
    "\n",
    "<ul style=\"color:#000000;font-size:20px\">\n",
    "    <li> <b> Repository (repo): </b> project directory (project folder). This directory is version-controlled </li>\n",
    "    <li> <b> Local repo: </b> the version of the repository that lives in a local machine </li>\n",
    "    <li> <b> Remote repo: </b> the version of the repository that lives in a remote machine or server </li>\n",
    "    <br>\n",
    "    <li> <b> Commit: </b> a documented checkpoint of the status of the repository </li>\n",
    "    <li> <b> Branch: </b> a pointer that tracks a version of the repo. Several branches can be created to develop separately different parts of the project which can later be merged to a main branch. <a href=\"https://git-scm.com/book/en/v2/Git-Branching-Branches-in-a-Nutshell\"> See here more details</a> </li>\n",
    "    <br>\n",
    "    <li> <b> Push: </b> send local repository branch to remote repository branch </li>\n",
    "    <li> <b> Pull: </b> receive remote repository branch into local repository branch </li>\n",
    "     \n",
    "      \n",
    "   \n",
    "</ul>  "
   ]
  },
  {
   "cell_type": "markdown",
   "metadata": {
    "slideshow": {
     "slide_type": "slide"
    }
   },
   "source": [
    "<h1 style=\"color:#00BDFF;font-size:30px\"> Examples/Applications of Git and Github </h1>\n",
    "<p style=\"color:#000000;font-size:20px\"> <b> Python packages development: </b> packages stored in remote repositories to distribute them with conda </p>\n",
    "\n",
    "\n",
    "<table width=\"100%\" border=\"0\">\n",
    "  <tr>    \n",
    "  <td><img src=\"assets/images/isnumber_python_conda.jpg\" alt=\"\" align=\"left\" /></td>\n",
    "  <td><img src=\"assets/images/isnumber_python_github.jpg\" alt=\"\" align=\"center\" /></td>\n",
    "  </tr>\n",
    "</table>\n"
   ]
  },
  {
   "cell_type": "markdown",
   "metadata": {
    "slideshow": {
     "slide_type": "subslide"
    }
   },
   "source": [
    "<p style=\"color:#000000;font-size:20px\"> <b> R packages development: </b> packages stored in remote repositories to distribute them with <font face=\"Courier New\"><b> install_github</b> </font> </p>\n",
    "\n",
    "<table width=\"100%\" border=\"0\">\n",
    "  <tr>    \n",
    "  <td><img src=\"assets/images/ggplot2_github_repo.jpg\" alt=\"\" align=\"left\" /></td>\n",
    "  <td><img src=\"assets/images/ggplot2_readme.jpg\" alt=\"\" align=\"center\" /></td>\n",
    "  </tr>\n",
    "</table>\n"
   ]
  },
  {
   "cell_type": "markdown",
   "metadata": {
    "slideshow": {
     "slide_type": "subslide"
    }
   },
   "source": [
    "<p style=\"color:#000000;font-size:20px\"> <b> Personal projects: </b> publications, collaborative academic projects, coding challenges, hobbies.. </p>\n",
    "\n",
    "<table width=\"100%\" height=\"100%\" border=\"0\">\n",
    "  <tr>   \n",
    "      <td style=\"width:20%\"> <b> Bob's local repository </b> <img src=\"assets/images/mv_computer1.jpg\" alt=\"\"/></td>  \n",
    "  <td style=\"width:40%\"> <b> Remote repository </b> <img src=\"assets/images/mv_github_repo.jpg\" alt=\"\" /></td> \n",
    "  <td style=\"width:20%\"> <b> Ana's local repository </b> <img  src=\"assets/images/mv_computer2.jpg\" alt=\"\"/></td>  \n",
    "  </tr>\n",
    " \n",
    "</table>"
   ]
  },
  {
   "cell_type": "markdown",
   "metadata": {
    "slideshow": {
     "slide_type": "subslide"
    }
   },
   "source": [
    "<p style=\"color:#000000;font-size:20px\"> <b> Create blogs or personal websites </b> </p>\n",
    "\n",
    "<table width=\"100%\" height=\"100%\" border=\"0\">\n",
    "  <tr>    \n",
    "  <td style=\"height:100%\"><img height=\"100%\" src=\"assets/images/website_github2.jpg\" alt=\"\" align=\"left\" /></td>  \n",
    "  <td style=\"height:100%\"><img height=\"100%\" src=\"assets/images/website_github.jpg\" alt=\"\" align=\"right\" /></td>  \n",
    "  </tr>\n",
    "</table>"
   ]
  },
  {
   "cell_type": "markdown",
   "metadata": {
    "slideshow": {
     "slide_type": "slide"
    }
   },
   "source": [
    "<h1 style=\"color:#00BDFF;font-size:30px\"> Basic Workflow </h1>\n",
    "<p style=\"font-size:25px\"> Let's check together how to work properly and cleanly with Git</p>"
   ]
  },
  {
   "cell_type": "markdown",
   "metadata": {
    "slideshow": {
     "slide_type": "subslide"
    }
   },
   "source": [
    "<h2 style=\"color:#6d8897;font-size:30px\"> <b>Start a repository</b> </h2>\n",
    "<div style=\"text-align: center;\">\n",
    "<img src=\"assets/illlustrations/rep_workflow_1.PNG\" width=\"70%\">\n",
    "</div>\n",
    "<p style=\"font-size:20px\"> Either <b>clone</b> an existing remote repository or <b>create</b> a new one locally and push it remotely</p>\n",
    "<br>"
   ]
  },
  {
   "cell_type": "markdown",
   "metadata": {
    "slideshow": {
     "slide_type": "subslide"
    }
   },
   "source": [
    "<h2 style=\"color:#6d8897;font-size:30px\"> <b> While working on the project </b> </h2>\n",
    "<div style=\"text-align: center;\">\n",
    "<img src=\"assets/illlustrations/rep_workflow_2.PNG\" width=\"70%\">\n",
    "</div>\n",
    "<p style=\"font-size:20px\"> <b>Fetch</b> new information to see what changed remotely </p>\n",
    "<p style=\"font-size:20px\"> Create a <b>branch</b> for every feature you work on; work and <b>add</b> the modified files, then <b>commit</b> those changes; finally <b>push</b> them to the remote branch </p>"
   ]
  },
  {
   "cell_type": "markdown",
   "metadata": {
    "slideshow": {
     "slide_type": "subslide"
    }
   },
   "source": [
    "<h2 style=\"color:#6d8897;font-size:30px\"> <b>Merging</b> </h2>\n",
    "<div style=\"text-align: center;\">\n",
    "<img src=\"assets/illlustrations/rep_workflow_3.PNG\" width=\"70%\" class=\"center\">\n",
    "</div>\n",
    "<p style=\"font-size:20px\"> When you are done with a feature, <b>merge</b> the branch back with main </p>\n",
    "<br>"
   ]
  },
  {
   "cell_type": "markdown",
   "metadata": {
    "slideshow": {
     "slide_type": "slide"
    }
   },
   "source": [
    "<h1 style=\"color:#00BDFF;font-size:30px\"> Time to try out Git </h1>\n",
    "\n",
    "    \n",
    "<p style=\"color:#000000;font-size:25px\"> Get the project folder and a Git manager (command window or GUI)</p>\n",
    " "
   ]
  },
  {
   "cell_type": "markdown",
   "metadata": {
    "slideshow": {
     "slide_type": "slide"
    }
   },
   "source": [
    "<h1 style=\"color:#00BDFF;font-size:30px\"> Good practices for Git </h1>  \n",
    "\n",
    "\n",
    "\n",
    "\n",
    "<ul style=\"color:#000000;font-size:20px\">\n",
    "    <li> <b>Experiment a lot</b> with mock repositories! Make mistakes and read through the errors on your testing </li> \n",
    " <li> Define a first solid structure of your project to start a repository </li> \n",
    "    <li> Add a <b>readme file</b> in the repository with detailed description about the project</li> \n",
    "\n",
    " <li> Document yourself about the <b> use of branching and merging </b> in Git.</li> \n",
    " <li> Learn to <b> read the communication Git returns</b> when you run commands such as pulling and pushing</li> \n",
    "\n",
    "</ul> \n",
    "\n",
    "\n",
    "\n"
   ]
  },
  {
   "cell_type": "markdown",
   "metadata": {
    "slideshow": {
     "slide_type": "subslide"
    }
   },
   "source": [
    "<h1 style=\"color:#00BDFF;font-size:30px\"> Good practices for Git </h1>  \n",
    "\n",
    "\n",
    "<ul style=\"color:#000000;font-size:20px\">\n",
    "  \n",
    " <li> Create <b> effective branches</b>. Think about the feature that a branch is going to tackle and how you expect to merge the changes into the main branch</li> \n",
    " <li> Every time that you enter your repository locally, &nbsp;  <font face=\"Courier New\">git fetch</font> &nbsp;  and &nbsp;  <font face=\"Courier New\">git pull</font> &nbsp;  before doing anything else! </li> \n",
    "    <li> <b>Commit</b> frequently and <b>push</b> accordingly </li> \n",
    " <li> If an unexpected result happened, check &nbsp;  <font face=\"Courier New\"> git log </font> &nbsp;  to revise the commit history</li> \n",
    "<br>\n",
    "    <li> <b>Don't panic</b>, you can always open branches and reset to previous commits when things go really wrong</li> \n",
    "</ul> \n",
    "\n",
    "\n",
    "\n",
    "    \n",
    "<p style=\"color:#898b8e;font-size:25px\"> Be curious, Git is your friend to keep control!</p>\n",
    "    \n"
   ]
  },
  {
   "cell_type": "markdown",
   "metadata": {
    "slideshow": {
     "slide_type": "slide"
    }
   },
   "source": [
    "<p style=\"color:#00BDFF;font-size:60px\"> <font face=\"Courier New\">  <b>git thank-you</b> </font> :) </p>\n",
    "<p style=\"color:#acb1bd;font-size:40px\"> Contact us: <a href=\"https://marcodallavecchia.github.io/biologistsadventure/\">Marco</a> and <a href=\"https://vfonsecad.github.io/dynamistics/\"> Valeria </a></p>"
   ]
  }
 ],
 "metadata": {
  "kernelspec": {
   "display_name": "Python 3",
   "language": "python",
   "name": "python3"
  },
  "language_info": {
   "codemirror_mode": {
    "name": "ipython",
    "version": 3
   },
   "file_extension": ".py",
   "mimetype": "text/x-python",
   "name": "python",
   "nbconvert_exporter": "python",
   "pygments_lexer": "ipython3",
   "version": "3.7.7"
  }
 },
 "nbformat": 4,
 "nbformat_minor": 4
}
