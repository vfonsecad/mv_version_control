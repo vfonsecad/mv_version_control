{
 "cells": [
  {
   "cell_type": "code",
   "execution_count": null,
   "metadata": {
    "slideshow": {
     "slide_type": "skip"
    }
   },
   "outputs": [],
   "source": [
    "# build presentation from command line\n",
    "# jupyter nbconvert presentation_version_control.ipynb --to slides --post serve  --SlidesExporter.reveal_transition=none"
   ]
  },
  {
   "cell_type": "code",
   "execution_count": 1,
   "metadata": {
    "slideshow": {
     "slide_type": "skip"
    }
   },
   "outputs": [],
   "source": [
    "# --- presentation version control\n",
    "# by: marco and valeria\n",
    "# with love"
   ]
  },
  {
   "cell_type": "markdown",
   "metadata": {
    "slideshow": {
     "slide_type": "slide"
    }
   },
   "source": [
    "<p style=\"color:#00BDFF;font-size:60px\"> Version control: Training For Basic Tools </p>\n",
    "<p style=\"color:#acb1bd;font-size:40px\"> by: Marco and Valeria </p>"
   ]
  },
  {
   "cell_type": "markdown",
   "metadata": {
    "slideshow": {
     "slide_type": "subslide"
    }
   },
   "source": [
    "<p style=\"color:#00BDFF;font-size:30px\"> Why version control? </p>\n",
    "<img src=\"assets/images/example.jpg\">"
   ]
  },
  {
   "cell_type": "markdown",
   "metadata": {
    "slideshow": {
     "slide_type": "slide"
    }
   },
   "source": [
    "<p style=\"color:#00BDFF;font-size:30px\"> Why version control? </p>\n",
    "<p style=\"font-size:20px\"> Has this ever happened to you? </p>"
   ]
  },
  {
   "cell_type": "markdown",
   "metadata": {
    "slideshow": {
     "slide_type": "subslide"
    }
   },
   "source": [
    "<p style=\"font-size:30px\"> The project is the production of a report and you start it. Natural instinct: create the first version naming it <em>\"v1\"</em> </p>\n",
    "<img src=\"assets/illlustrations/problematic_workflow1.png\" width=\"70%\" class=\"center\">"
   ]
  },
  {
   "cell_type": "markdown",
   "metadata": {
    "slideshow": {
     "slide_type": "subslide"
    }
   },
   "source": [
    "<p style=\"font-size:30px\"> You send it to Ana and Bob for their parts and revision, <b> while you keep working on it also</b> </p>\n",
    "<p style=\"font-size:20px\"> Natural instinct: Ana produces her part and names it accordingly <b> to avoid confusion</b> </p>\n",
    "<img src=\"assets/illlustrations/problematic_workflow2.png\" width=\"70%\" class=\"center\">"
   ]
  },
  {
   "cell_type": "markdown",
   "metadata": {
    "slideshow": {
     "slide_type": "subslide"
    }
   },
   "source": [
    "<p style=\"font-size:30px\"> The project now exists in <b> 3 different versions</b>, probably some of them more ahead in progress and others with more specific modifications </p>\n",
    "<img src=\"assets/illlustrations/problematic_workflow3.png\" width=\"70%\" class=\"center\">"
   ]
  },
  {
   "cell_type": "markdown",
   "metadata": {
    "slideshow": {
     "slide_type": "subslide"
    }
   },
   "source": [
    "<p style=\"font-size:30px\"> You or someone else has to put them all together <b>manually</b> and probably with <b>a lot of confusion</b> prone to errors!</p>\n",
    "<img src=\"assets/illlustrations/problematic_workflow4.png\" width=\"70%\" class=\"center\">"
   ]
  },
  {
   "cell_type": "markdown",
   "metadata": {
    "slideshow": {
     "slide_type": "subslide"
    }
   },
   "source": [
    "<p style=\"color:#00BDFF;font-size:30px\"> Now what?: The Version Control Paradigm </p> \n",
    "\n",
    "<br>\n",
    "<br>\n",
    "\n",
    "<ul style=\"color:#000000;font-size:20px\">\n",
    "  <li> Define and design project with structure: Define the parts and how the parts join together so collaboration takes place smoothly </li>  \n",
    "  <li> Finally avoid thousands of versions of storage for the same file(s) </li>\n",
    "  <li> Document changes as the files are built so you know what you've done and can go back to previous versions </li>\n",
    "  <li> We're never really working alone. Collaborate effectively with other people when making projects</li>\n",
    "</ul>  \n",
    "\n",
    "<br>\n",
    "<br>\n",
    "\n",
    "<p style=\"color:#898b8e;font-size:20px;font-style: italic\"> \"Never lose <b>control</b> on what you're doing\" - MV </p> \n",
    "\n",
    "\n",
    "\n"
   ]
  },
  {
   "cell_type": "markdown",
   "metadata": {
    "slideshow": {
     "slide_type": "slide"
    }
   },
   "source": [
    "<p style=\"color:#00BDFF;font-size:30px\"> What is version control?</p>\n",
    "<p style=\"color:#898b8e;font-size:20px;font-style: italic\"> The Life‑Changing Magic of Tidying Up. Marie Kondo *(^o^)*</p> \n",
    "\n",
    "<br>\n",
    "<br>\n",
    "\n",
    "<ul style=\"color:#000000;font-size:20px\">\n",
    "  <li> Most robust paradigm for project developement: Structure and organization management </li>\n",
    "  <li> System that allows to manage project developement by effectively tracking and merging changes in files </li>\n",
    "  <li> It allows to connect project developers playing a perfect <em>\"spread the word\"</em> game </li>\n",
    "  <li> Projects can now live in many different places at the same time: <b>Locally</b> (your computer folder) and <b>remotely</b>\n",
    "  <li> Version control is explained, applied and mostly discussed in the context of software development, but it can be used in the development of any well-structured digital project: E.g. Collaborative reports, academic publications, etc. </li>\n",
    " \n",
    "<br>\n",
    "    \n",
    "    \n",
    "<p style=\"color:#898b8e;font-size:25px\"> The invisible hand of project development </p>\n",
    "    "
   ]
  },
  {
   "cell_type": "markdown",
   "metadata": {
    "slideshow": {
     "slide_type": "subslide"
    }
   },
   "source": [
    "<p style=\"font-size:30px\"> Here's how it works! We start for the original version of the file</p>\n",
    "<div style=\"text-align: center;\">\n",
    "<img src=\"assets/illlustrations/correct_workflow_f1.png\" width=\"40%\">\n",
    "</div>"
   ]
  },
  {
   "cell_type": "markdown",
   "metadata": {
    "slideshow": {
     "slide_type": "skip"
    }
   },
   "source": [
    "<p style=\"font-size:30px\">From the command line..</p>\n",
    "<ul style=\"color:#000000;font-size:20px\">\n",
    "    <li><b>git clone \"https://github.com/username/repository.git\"</b> to start from an existing repository</li>\n",
    "    <li><b>git init</b> to start a local repository</li>\n",
    "</ul>"
   ]
  },
  {
   "cell_type": "markdown",
   "metadata": {
    "slideshow": {
     "slide_type": "subslide"
    }
   },
   "source": [
    "<p style=\"font-size:30px\"> Each user gets their own independent copy </p>\n",
    "<div style=\"text-align: center;\">\n",
    "<img src=\"assets/illlustrations/correct_workflow_f2.png\" width=\"40%\">\n",
    "</div>"
   ]
  },
  {
   "cell_type": "markdown",
   "metadata": {
    "slideshow": {
     "slide_type": "skip"
    }
   },
   "source": [
    "<p style=\"font-size:30px\">From the command line..</p>\n",
    "<ul style=\"color:#000000;font-size:20px\">\n",
    "    <li><b>git checkout -b \"NEW_BRANCH\"</b> to create a new branch locally</li>\n",
    "    <li><b>git checkout \"EXISTING_BRANCH\"</b> to track an existing branch</li>\n",
    "</ul>"
   ]
  },
  {
   "cell_type": "markdown",
   "metadata": {
    "slideshow": {
     "slide_type": "subslide"
    }
   },
   "source": [
    "<p style=\"font-size:30px\"> Collaborators make their modifications </p>\n",
    "<img src=\"assets/illlustrations/correct_workflow_f3.png\" width=\"40%\" class=\"center\">"
   ]
  },
  {
   "cell_type": "markdown",
   "metadata": {
    "slideshow": {
     "slide_type": "skip"
    }
   },
   "source": [
    "<p style=\"font-size:30px\">After they finish to work on their files, from the command line..</p>\n",
    "<ul style=\"color:#000000;font-size:20px\">\n",
    "    <li><b>git add .</b> to stage all modified files</li>\n",
    "    <li><b>git commit -m \"commit message\"</b> to \"confirm\" the files to be tracked with a descriptive message</li>\n",
    "    <li><b>git push origin BRANCH_NAME</b> to send changes to the remote repository in your own branch without modifying main</li>\n",
    "</ul>"
   ]
  },
  {
   "cell_type": "markdown",
   "metadata": {
    "slideshow": {
     "slide_type": "subslide"
    }
   },
   "source": [
    "<p style=\"font-size:30px\"> When Ana finishes, her work will update the existing old version of the file</p>\n",
    "<div style=\"text-align: center;\">\n",
    "<img src=\"assets/illlustrations/correct_workflow_f4.png\" width=\"40%\">\n",
    "</div>"
   ]
  },
  {
   "cell_type": "markdown",
   "metadata": {
    "slideshow": {
     "slide_type": "skip"
    }
   },
   "source": [
    "<p style=\"font-size:30px\">From the command line..</p>\n",
    "<ul style=\"color:#000000;font-size:20px\">\n",
    "    <li><b>git checkout main</b> to move to the main branch</li>\n",
    "    <li><b>git merge BRANCH_NAME</b> to merge her branch to the main</li>\n",
    "    <li><b>git push origin main</b> to send changes to the remote repository in main</li>\n",
    "</ul>\n",
    "<p style=\"font-size:25px\">Optional</p>\n",
    "<ul style=\"color:#000000;font-size:20px\">\n",
    "    <li><b>git branch -d BRANCH_NAME</b> to delete <em>locally</em> the branch you won't use anymore</li>\n",
    "    <li><b>git push origin :BRANCH_NAME</b> to delete the branch you won't use anymore <em>remotely</em></li>\n",
    "</ul>"
   ]
  },
  {
   "cell_type": "markdown",
   "metadata": {
    "slideshow": {
     "slide_type": "subslide"
    }
   },
   "source": [
    "<p style=\"font-size:30px\"> When Bob finishes her work, we update the existing file, leading us to the final version of the document</p>\n",
    "<p style=\"font-size:25px\"> Everything in <b>one single file</b>! </p>\n",
    "<div style=\"text-align: center;\">\n",
    "<img src=\"assets/illlustrations/correct_workflow_f5.png\" width=\"40%\" class=\"center\">\n",
    "</div>"
   ]
  },
  {
   "cell_type": "markdown",
   "metadata": {
    "slideshow": {
     "slide_type": "subslide"
    }
   },
   "source": [
    "<p style=\"font-size:30px\">To summarize</p> \n",
    "<img src=\"assets/illlustrations/local_remote_summary.png\" width=\"15%\" style=\"float:right;\">\n",
    "<ul style=\"color:#000000; font-size:20px; float: left; max-width: 800px; border-right:solid 1px;\">\n",
    "    <li>You use <b>git push</b> and <b>git pull</b> to communicate between local and remote repository</li>\n",
    "    <li>Every time you start working on something new, you create a new branch (<b>git checkout -b NEW_BRANCH</b>)</li>\n",
    "    <li>You <b>git add .</b> the modified files and you <b>git commit</b> every time you need a \"checkpoint\"</li>\n",
    "    <li>When you are done working on a \"feature\" you <b>git merge</b> the branch with main</li>\n",
    "    <li>If you don't need the branch anymore <b>git branch -d(elete)</b> the branch</li>\n",
    "</ul>"
   ]
  },
  {
   "cell_type": "markdown",
   "metadata": {},
   "source": [
    "<p style=\"color:#00BDFF;font-size:30px\"> <a style=\"color:#00BDFF;font-size:30px\" href=\"https://stackoverflow.com/questions/3183064/git-vs-mercurial-vs-svn\"> Which version control system? </a></p>\n",
    "\n",
    "\n",
    "<br>\n",
    "<p style=\"color:#6d8897;font-size:25px\"> <b>Version control systems</b> </p>\n",
    "<p style=\"color:#000000;font-size:25px\"> <a href=\"https://git-scm.com/\"><b>Git</b></a>, <a href=\"https://www.mercurial-scm.org/wiki/QuickStart\">Mercurial</a>, <a href=\"https://subversion.apache.org/\">SVN Apache Subversion </a></p>\n",
    "\n",
    "\n",
    "<p style=\"color:#6d8897;font-size:25px\"> <b>Managers of remote repositories</b> </p>\n",
    "\n",
    "<ul style=\"color:#000000;font-size:20px\">\n",
    "<li><a href=\"https://github.com/\"> <b> Github</b></a></li>\n",
    "          <li><a href=\"https://bitbucket.org/\"><b>Bitbucket</b></a></li>\n",
    "          <li><a href=\"https://about.gitlab.com/\"><b>Gitlab</b></a></li>\n",
    "          <li><a href=\"https://sourceforge.net/\">SourceForge</a></li>\n",
    "          <li><a href=\"https://launchpad.net/\">Launchpad</a></li>\n",
    "      \n",
    "   \n",
    "</ul>  \n",
    "\n",
    "\n",
    "\n"
   ]
  },
  {
   "cell_type": "markdown",
   "metadata": {},
   "source": [
    "<p style=\"color:#00BDFF;font-size:30px\"> Version control Git basic jargon </p>\n",
    "\n",
    "\n",
    "<ul style=\"color:#000000;font-size:20px\">\n",
    "    <li> <b> Repository (repo): </b> Project directory (project folder). This directory is version-controlled </li>\n",
    "    <li> <b> Local repo: </b> The version of the repository that lives in a local machine </li>\n",
    "    <li> <b> Remote repo: </b> The version of the repository that lives in a remote machine or server </li>\n",
    "    <br>\n",
    "    <li> <b> Commit: </b> A documented checkpoint of the status of the repository </li>\n",
    "    <li> <b> Branch: </b> A pointer that tracks a version of the repo. Several branches can be created to develop separately different parts of the project which can later be merged to a main branch. <a href=\"https://git-scm.com/book/en/v2/Git-Branching-Branches-in-a-Nutshell\"> See here more details</a> </li>\n",
    "    <br>\n",
    "    <li> <b> Push: </b> Send local repository branch to remote repository branch </li>\n",
    "    <li> <b> Pull: </b> Receive remote repository branch into local repository branch </li>\n",
    "     \n",
    "      \n",
    "   \n",
    "</ul>  "
   ]
  },
  {
   "cell_type": "markdown",
   "metadata": {
    "slideshow": {
     "slide_type": "slide"
    }
   },
   "source": [
    "<p style=\"color:#00BDFF;font-size:30px\"> Examples/Applications of Version Control </p>\n",
    "<p style=\"color:#000000;font-size:20px\"> <b> Python packages development: </b> Packages stored in remote repositories to distribute them with conda </p>\n",
    "\n",
    "\n",
    "<table width=\"100%\" border=\"0\">\n",
    "  <tr>    \n",
    "  <td><img src=\"assets/images/isnumber_python_conda.jpg\" alt=\"\" align=\"left\" /></td>\n",
    "  <td><img src=\"assets/images/isnumber_python_github.jpg\" alt=\"\" align=\"center\" /></td>\n",
    "  </tr>\n",
    "</table>\n"
   ]
  },
  {
   "cell_type": "markdown",
   "metadata": {
    "slideshow": {
     "slide_type": "subslide"
    }
   },
   "source": [
    "<p style=\"color:#000000;font-size:20px\"> <b> R packages development: </b> Packages stored in remote repositories to distribute them with <font face=\"Courier New\"><b> install_github</b> </font> </p>\n",
    "\n",
    "<table width=\"100%\" border=\"0\">\n",
    "  <tr>    \n",
    "  <td><img src=\"assets/images/ggplot2_github_repo.jpg\" alt=\"\" align=\"left\" /></td>\n",
    "  <td><img src=\"assets/images/ggplot2_readme.jpg\" alt=\"\" align=\"center\" /></td>\n",
    "  </tr>\n",
    "</table>\n"
   ]
  },
  {
   "cell_type": "markdown",
   "metadata": {
    "slideshow": {
     "slide_type": "subslide"
    }
   },
   "source": [
    "<p style=\"color:#000000;font-size:20px\"> <b> Personal projects: </b> Publications, collaborative academic projects </p>\n",
    "\n",
    "<table width=\"100%\" height=\"100%\" border=\"0\">\n",
    "  <tr>   \n",
    "      <td style=\"width:20%\"> <b> Bob's local repository </b> <img src=\"assets/images/mv_computer1.jpg\" alt=\"\"/></td>  \n",
    "  <td style=\"width:40%\"> <b> Remote repository </b> <img src=\"assets/images/mv_github_repo.jpg\" alt=\"\" /></td> \n",
    "  <td style=\"width:20%\"> <b> Ana's local repository </b> <img  src=\"assets/images/mv_computer2.jpg\" alt=\"\"/></td>  \n",
    "  </tr>\n",
    " \n",
    "</table>"
   ]
  },
  {
   "cell_type": "markdown",
   "metadata": {
    "slideshow": {
     "slide_type": "subslide"
    }
   },
   "source": [
    "<p style=\"color:#000000;font-size:20px\"> <b> Create blogs or personal websites </b> </p>\n",
    "\n",
    "<table width=\"100%\" height=\"100%\" border=\"0\">\n",
    "  <tr>    \n",
    "  <td style=\"height:100%\"><img height=\"100%\" src=\"assets/images/website_github2.jpg\" alt=\"\" align=\"left\" /></td>  \n",
    "  <td style=\"height:100%\"><img height=\"100%\" src=\"assets/images/website_github.jpg\" alt=\"\" align=\"right\" /></td>  \n",
    "  </tr>\n",
    "</table>"
   ]
  },
  {
   "cell_type": "markdown",
   "metadata": {
    "slideshow": {
     "slide_type": "slide"
    }
   },
   "source": [
    "<p style=\"color:#00BDFF;font-size:30px\"> Basic Workflow </p>\n",
    "<p style=\"font-size:25px\"> Let's check together how to work properly and cleanly with git</p>"
   ]
  },
  {
   "cell_type": "markdown",
   "metadata": {
    "slideshow": {
     "slide_type": "subslide"
    }
   },
   "source": [
    "<p style=\"font-size:30px\"> Start a repository </p>\n",
    "<p style=\"font-size:20px\"> Either clone an existing remote repository or create a new one locally and push it remotely</p>\n",
    "<div style=\"text-align: center;\">\n",
    "<img src=\"assets/illlustrations/rep_workflow_1.PNG\" width=\"100%\" class=\"center\">\n",
    "</div>"
   ]
  },
  {
   "cell_type": "markdown",
   "metadata": {
    "slideshow": {
     "slide_type": "subslide"
    }
   },
   "source": [
    "<p style=\"font-size:30px\"> Branching </p>\n",
    "<p style=\"font-size:20px\"> Create a branch for every feature you work on </p>\n",
    "<div style=\"text-align: center;\">\n",
    "<img src=\"assets/illlustrations/rep_workflow_2.PNG\" width=\"100%\" class=\"center\">\n",
    "</div>"
   ]
  },
  {
   "cell_type": "markdown",
   "metadata": {
    "slideshow": {
     "slide_type": "subslide"
    }
   },
   "source": [
    "<p style=\"font-size:30px\"> Fetching and committing </p>\n",
    "<p style=\"font-size:20px\"> Fetch new information to see what changed remotely; work and add the modified files, then commit those changes to the remote branch </p>\n",
    "<div style=\"text-align: center;\">\n",
    "<img src=\"assets/illlustrations/rep_workflow_3.PNG\" width=\"100%\" class=\"center\">\n",
    "</div>"
   ]
  },
  {
   "cell_type": "markdown",
   "metadata": {
    "slideshow": {
     "slide_type": "subslide"
    }
   },
   "source": [
    "<p style=\"font-size:30px\"> Merging </p>\n",
    "<p style=\"font-size:20px\"> When you are done with a feature, merge the branch back with main </p>\n",
    "<div style=\"text-align: center;\">\n",
    "<img src=\"assets/illlustrations/rep_workflow_4.PNG\" width=\"100%\" class=\"center\">\n",
    "</div>"
   ]
  },
  {
   "cell_type": "markdown",
   "metadata": {},
   "source": [
    "<p style=\"color:#00BDFF;font-size:30px\"> Good practices </p>"
   ]
  }
 ],
 "metadata": {
  "kernelspec": {
   "display_name": "Python 3",
   "language": "python",
   "name": "python3"
  },
  "language_info": {
   "codemirror_mode": {
    "name": "ipython",
    "version": 3
   },
   "file_extension": ".py",
   "mimetype": "text/x-python",
   "name": "python",
   "nbconvert_exporter": "python",
   "pygments_lexer": "ipython3",
   "version": "3.7.4"
  }
 },
 "nbformat": 4,
 "nbformat_minor": 4
}
