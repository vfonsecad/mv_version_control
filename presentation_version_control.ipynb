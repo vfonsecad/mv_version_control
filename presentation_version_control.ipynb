{
 "cells": [
  {
   "cell_type": "code",
   "execution_count": null,
   "metadata": {
    "slideshow": {
     "slide_type": "skip"
    }
   },
   "outputs": [],
   "source": [
    "# build presentation from command line\n",
    "# jupyter nbconvert presentation_version_control.ipynb --to slides --post serve  --SlidesExporter.reveal_transition=none"
   ]
  },
  {
   "cell_type": "code",
   "execution_count": 1,
   "metadata": {
    "slideshow": {
     "slide_type": "skip"
    }
   },
   "outputs": [],
   "source": [
    "# --- presentation version control\n",
    "# by: marco and valeria\n",
    "# with love"
   ]
  },
  {
   "cell_type": "markdown",
   "metadata": {
    "slideshow": {
     "slide_type": "slide"
    }
   },
   "source": [
    "<p style=\"color:#00BDFF;font-size:60px\"> Version control: Training For Basic Tools </p>\n",
    "<p style=\"color:#acb1bd;font-size:40px\"> by: Valeria and Marco </p>"
   ]
  },
  {
   "cell_type": "markdown",
   "metadata": {
    "slideshow": {
     "slide_type": "subslide"
    }
   },
   "source": [
    "<p style=\"color:#00BDFF;font-size:30px\"> Why version control? </p>\n",
    "<img src=\"example.jpg\">"
   ]
  },
  {
   "cell_type": "markdown",
   "metadata": {
    "slideshow": {
     "slide_type": "slide"
    }
   },
   "source": [
    "<p style=\"color:#00BDFF;font-size:30px\"> Why version control? </p>\n",
    "<p style=\"font-size:20px\"> Has this ever happened to you? </p>"
   ]
  },
  {
   "cell_type": "markdown",
   "metadata": {
    "slideshow": {
     "slide_type": "subslide"
    }
   },
   "source": [
    "<p style=\"font-size:30px\"> You are writing a report and you want some feedback </p>\n",
    "<img src=\"illlustrations/problematic_workflow1.png\" width=\"70%\" class=\"center\">"
   ]
  },
  {
   "cell_type": "markdown",
   "metadata": {
    "slideshow": {
     "slide_type": "subslide"
    }
   },
   "source": [
    "<p style=\"font-size:30px\"> You send it to And and Bob, while <b>you keep working on yours</b> </p>\n",
    "<img src=\"illlustrations/problematic_workflow2.png\" width=\"70%\" class=\"center\">"
   ]
  },
  {
   "cell_type": "markdown",
   "metadata": {
    "slideshow": {
     "slide_type": "subslide"
    }
   },
   "source": [
    "<p style=\"font-size:30px\"> They modify and comment their versions of the document </p>\n",
    "<img src=\"illlustrations/problematic_workflow3.png\" width=\"70%\" class=\"center\">"
   ]
  },
  {
   "cell_type": "markdown",
   "metadata": {
    "slideshow": {
     "slide_type": "subslide"
    }
   },
   "source": [
    "<p style=\"font-size:30px\">Now you have many files <b>all slightly different</b> and you have to put them all together manually!</p>\n",
    "<img src=\"illlustrations/problematic_workflow4.png\" width=\"70%\" class=\"center\">"
   ]
  },
  {
   "cell_type": "markdown",
   "metadata": {
    "slideshow": {
     "slide_type": "subslide"
    }
   },
   "source": [
    "<p style=\"color:#00BDFF;font-size:30px\"> Now what? </p> \n",
    "\n",
    "<br>\n",
    "<br>\n",
    "\n",
    "<ul style=\"color:#000000;font-size:20px\">\n",
    "  <li> Finally avoid thousands of versions of storage for the same file(s) </li>\n",
    "  <li> Document changes as the files are built so you know what you've done and can go back to previous versions </li>\n",
    "  <li> We're never really working alone. Collaborate effectively with other people when making projects</li>\n",
    "</ul>  \n",
    "\n",
    "<br>\n",
    "<br>\n",
    "\n",
    "<p style=\"color:#898b8e;font-size:20px;font-style: italic\"> \"Never lose <b>control</b> on what you're doing\" - VM </p> \n",
    "\n",
    "\n",
    "\n"
   ]
  },
  {
   "cell_type": "markdown",
   "metadata": {
    "slideshow": {
     "slide_type": "slide"
    }
   },
   "source": [
    "<p style=\"color:#00BDFF;font-size:30px\"> What is version control? </p>\n",
    "<p style=\"color:#898b8e;font-size:20px;font-style: italic\"> The Life‑Changing Magic of Tidying Up. Marie Kondo *(^o^)*</p> \n",
    "\n",
    "\n",
    "<br>\n",
    "<br>\n",
    "\n",
    "<ul style=\"color:#000000;font-size:20px\">\n",
    "  <li> Most structured paradigm for project developement </li>\n",
    "  <li> System that allows to manage project developement by effectively tracking and merging changes in files </li>\n",
    "  <li> It allows to connect project developers playing a perfect <em>\"spread the word\"</em> game </li>\n",
    "  <li> Projects can now live in many different places at the same time: <b>Locally</b> and <b>remotely</b> </li>\n",
    "</ul>  \n",
    "\n",
    "<br>\n",
    "<br>\n",
    "<p style=\"color:#6d8897;font-size:25px\"> <b>Version control systems</b> </p>\n",
    "\n",
    "<p style=\"color:#000000;font-size:20px\"> <b>Git</b>, Helix Core Perforce, Microsoft TFS </p>\n"
   ]
  },
  {
   "cell_type": "markdown",
   "metadata": {
    "slideshow": {
     "slide_type": "subslide"
    }
   },
   "source": [
    "<p style=\"font-size:30px\"> Here's how it works </p>\n",
    "<img src=\"illlustrations/correct_workflow1.png\" width=\"40%\" class=\"center\">"
   ]
  },
  {
   "cell_type": "markdown",
   "metadata": {
    "slideshow": {
     "slide_type": "subslide"
    }
   },
   "source": [
    "<p style=\"font-size:30px\"> Each user creates a <b>branch</b> </p>\n",
    "<img src=\"illlustrations/correct_workflow2.png\" width=\"40%\" class=\"center\">"
   ]
  },
  {
   "cell_type": "markdown",
   "metadata": {
    "slideshow": {
     "slide_type": "subslide"
    }
   },
   "source": [
    "<p style=\"font-size:30px\"> Collaborators make their <b>modifications</b> </p>\n",
    "<img src=\"illlustrations/correct_workflow3.png\" width=\"40%\" class=\"center\">"
   ]
  },
  {
   "cell_type": "markdown",
   "metadata": {
    "slideshow": {
     "slide_type": "subslide"
    }
   },
   "source": [
    "<p style=\"font-size:30px\"> And also yourself! </p>\n",
    "<img src=\"illlustrations/correct_workflow4.png\" width=\"40%\" class=\"center\">"
   ]
  },
  {
   "cell_type": "markdown",
   "metadata": {
    "slideshow": {
     "slide_type": "subslide"
    }
   },
   "source": [
    "<p style=\"font-size:30px\"> When Ana finishes her work, we <b>merge</b> her branch </p>\n",
    "<img src=\"illlustrations/correct_workflow5.png\" width=\"40%\" class=\"center\">"
   ]
  },
  {
   "cell_type": "markdown",
   "metadata": {
    "slideshow": {
     "slide_type": "subslide"
    }
   },
   "source": [
    "<p style=\"font-size:30px\"> When Bob finishes her work, we <b>merge</b> his branch, leading us to the final version of the document </p>\n",
    "<p style=\"font-size:25px\"> Everything in <b>one single file</b>! </p>\n",
    "<img src=\"illlustrations/correct_workflow6.png\" width=\"40%\" class=\"center\">"
   ]
  },
  {
   "cell_type": "markdown",
   "metadata": {},
   "source": [
    "<p style=\"color:#00BDFF;font-size:30px\"> Examples/Applications of Version Control </p>\n"
   ]
  }
 ],
 "metadata": {
  "kernelspec": {
   "display_name": "Python 3",
   "language": "python",
   "name": "python3"
  },
  "language_info": {
   "codemirror_mode": {
    "name": "ipython",
    "version": 3
   },
   "file_extension": ".py",
   "mimetype": "text/x-python",
   "name": "python",
   "nbconvert_exporter": "python",
   "pygments_lexer": "ipython3",
   "version": "3.7.7"
  }
 },
 "nbformat": 4,
 "nbformat_minor": 4
}
