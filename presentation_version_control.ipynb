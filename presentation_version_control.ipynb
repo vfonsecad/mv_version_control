{
 "cells": [
  {
   "cell_type": "code",
   "execution_count": null,
   "metadata": {
    "slideshow": {
     "slide_type": "skip"
    }
   },
   "outputs": [],
   "source": [
    "# build presentation from command line\n",
    "# jupyter nbconvert presentation_version_control.ipynb --to slides --post serve  --SlidesExporter.reveal_transition=none"
   ]
  },
  {
   "cell_type": "code",
   "execution_count": 1,
   "metadata": {
    "slideshow": {
     "slide_type": "skip"
    }
   },
   "outputs": [],
   "source": [
    "# --- presentation version control\n",
    "# by: marco and valeria\n",
    "# with love"
   ]
  },
  {
   "cell_type": "markdown",
   "metadata": {
    "slideshow": {
     "slide_type": "slide"
    }
   },
   "source": [
    "<p style=\"color:#00BDFF;font-size:60px\"> Version control: Training For Basic Tools </p>\n",
    "<p style=\"color:#acb1bd;font-size:40px\"> by: Valeria and Marco </p>"
   ]
  },
  {
   "cell_type": "markdown",
   "metadata": {
    "slideshow": {
     "slide_type": "subslide"
    }
   },
   "source": [
    "<p style=\"color:#00BDFF;font-size:30px\"> Why version control? </p>\n",
    "<img src=\"example.jpg\">"
   ]
  },
  {
   "cell_type": "markdown",
   "metadata": {
    "slideshow": {
     "slide_type": "slide"
    }
   },
   "source": [
    "<p style=\"color:#00BDFF;font-size:30px\"> Why version control? </p>\n",
    "<p style=\"font-size:20px\"> Has this ever happened to you? </p>"
   ]
  },
  {
   "cell_type": "markdown",
   "metadata": {
    "slideshow": {
     "slide_type": "subslide"
    }
   },
   "source": [
    "<p style=\"font-size:30px\"> You are writing a report and you want some feedback </p>\n",
    "<img src=\"assets/illlustrations/problematic_workflow1.png\" width=\"70%\" class=\"center\">"
   ]
  },
  {
   "cell_type": "markdown",
   "metadata": {
    "slideshow": {
     "slide_type": "subslide"
    }
   },
   "source": [
    "<p style=\"font-size:30px\"> You send it to And and Bob, while <b>you keep working on yours</b> </p>\n",
    "<img src=\"assets/illlustrations/problematic_workflow2.png\" width=\"70%\" class=\"center\">"
   ]
  },
  {
   "cell_type": "markdown",
   "metadata": {
    "slideshow": {
     "slide_type": "subslide"
    }
   },
   "source": [
    "<p style=\"font-size:30px\"> They modify and comment their versions of the document </p>\n",
    "<img src=\"assets/illlustrations/problematic_workflow3.png\" width=\"70%\" class=\"center\">"
   ]
  },
  {
   "cell_type": "markdown",
   "metadata": {
    "slideshow": {
     "slide_type": "subslide"
    }
   },
   "source": [
    "<p style=\"font-size:30px\">Now you have many files <b>all slightly different</b> and you have to put them all together manually!</p>\n",
    "<img src=\"assets/illlustrations/problematic_workflow4.png\" width=\"70%\" class=\"center\">"
   ]
  },
  {
   "cell_type": "markdown",
   "metadata": {
    "slideshow": {
     "slide_type": "subslide"
    }
   },
   "source": [
    "<p style=\"color:#00BDFF;font-size:30px\"> Now what? </p> \n",
    "\n",
    "<br>\n",
    "<br>\n",
    "\n",
    "<ul style=\"color:#000000;font-size:20px\">\n",
    "  <li> Finally avoid thousands of versions of storage for the same file(s) </li>\n",
    "  <li> Document changes as the files are built so you know what you've done and can go back to previous versions </li>\n",
    "  <li> We're never really working alone. Collaborate effectively with other people when making projects</li>\n",
    "</ul>  \n",
    "\n",
    "<br>\n",
    "<br>\n",
    "\n",
    "<p style=\"color:#898b8e;font-size:20px;font-style: italic\"> \"Never lose <b>control</b> on what you're doing\" - VM </p> \n",
    "\n",
    "\n",
    "\n"
   ]
  },
  {
   "cell_type": "markdown",
   "metadata": {
    "slideshow": {
     "slide_type": "slide"
    }
   },
   "source": [
    "<p style=\"color:#00BDFF;font-size:30px\"> What is version control? </p>\n",
    "<p style=\"color:#898b8e;font-size:20px;font-style: italic\"> The Life‑Changing Magic of Tidying Up. Marie Kondo *(^o^)*</p> \n",
    "\n",
    "<br>\n",
    "<br>\n",
    "\n",
    "<ul style=\"color:#000000;font-size:20px\">\n",
    "  <li> Most structured paradigm for project developement </li>\n",
    "  <li> System that allows to manage project developement by effectively tracking and merging changes in files </li>\n",
    "  <li> It allows to connect project developers playing a perfect <em>\"spread the word\"</em> game </li>\n",
    "  <li> Projects can now live in many different places at the same time: <b>Locally</b> (your computer folder) and <b>remotely</b>\n",
    "      <ul><li><a href=\"https://github.com/\">Github</a></li>\n",
    "          <li><a href=\"https://bitbucket.org/\">Bitbucket</a></li>\n",
    "          <li><a href=\"https://about.gitlab.com/\">Gitlab</a></li>\n",
    "          <li><a href=\"https://sourceforge.net/\">SourceForge</a></li>\n",
    "          <li><a href=\"https://launchpad.net/\">Launchpad</a></li>\n",
    "      </ul>\n",
    "   </li>\n",
    "</ul>  \n",
    "\n",
    "<br>\n",
    "<p style=\"color:#6d8897;font-size:25px\"> <b>Other version control systems</b> </p>\n",
    "<p style=\"color:#000000;font-size:20px\"> <a href=\"https://git-scm.com/\">Git</a>, <a href=\"https://www.perforce.com/products/helix-core\">Helix Core Perforce</a>, <a href=\"https://azure.microsoft.com/en-us/services/devops/server/\">Microsoft Azure DevOps Server</a></p>\n"
   ]
  },
  {
   "cell_type": "code",
   "execution_count": null,
   "metadata": {},
   "outputs": [],
   "source": []
  },
  {
   "cell_type": "markdown",
   "metadata": {
    "slideshow": {
     "slide_type": "subslide"
    }
   },
   "source": [
    "<p style=\"font-size:30px\"> Here's how it works! We start for the original version of the file</p>\n",
    "<div style=\"text-align: center;\">\n",
    "<img src=\"assets/illlustrations/correct_workflow_f1.png\" width=\"40%\">\n",
    "</div>"
   ]
  },
  {
   "cell_type": "markdown",
   "metadata": {
    "slideshow": {
     "slide_type": "skip"
    }
   },
   "source": [
    "<p style=\"font-size:30px\">From the command line..</p>\n",
    "<ul style=\"color:#000000;font-size:20px\">\n",
    "    <li><b>git clone \"https://github.com/username/repository.git\"</b> to start from an existing repository</li>\n",
    "    <li><b>git init</b> to start a local repository</li>\n",
    "</ul>"
   ]
  },
  {
   "cell_type": "markdown",
   "metadata": {
    "slideshow": {
     "slide_type": "subslide"
    }
   },
   "source": [
    "<p style=\"font-size:30px\"> Each user gets their own independent copy </p>\n",
    "<div style=\"text-align: center;\">\n",
    "<img src=\"assets/illlustrations/correct_workflow_f2.png\" width=\"40%\">\n",
    "</div>"
   ]
  },
  {
   "cell_type": "markdown",
   "metadata": {
    "slideshow": {
     "slide_type": "skip"
    }
   },
   "source": [
    "<p style=\"font-size:30px\">From the command line..</p>\n",
    "<ul style=\"color:#000000;font-size:20px\">\n",
    "    <li><b>git checkout -b \"NEW_BRANCH\"</b> to create a new branch locally</li>\n",
    "    <li><b>git checkout \"EXISTING_BRANCH\"</b> to track an existing branch</li>\n",
    "</ul>"
   ]
  },
  {
   "cell_type": "markdown",
   "metadata": {
    "slideshow": {
     "slide_type": "subslide"
    }
   },
   "source": [
    "<p style=\"font-size:30px\"> Collaborators make their modifications </p>\n",
    "<img src=\"assets/illlustrations/correct_workflow_f3.png\" width=\"40%\" class=\"center\">"
   ]
  },
  {
   "cell_type": "markdown",
   "metadata": {
    "slideshow": {
     "slide_type": "skip"
    }
   },
   "source": [
    "<p style=\"font-size:30px\">After they finish to work on their files, from the command line..</p>\n",
    "<ul style=\"color:#000000;font-size:20px\">\n",
    "    <li><b>git add .</b> to stage all modified files</li>\n",
    "    <li><b>git commit -m \"commit message\"</b> to \"confirm\" the files to be tracked with a descriptive message</li>\n",
    "    <li><b>git push origin BRANCH_NAME</b> to send changes to the remote repository in your own branch without modifying main</li>\n",
    "</ul>"
   ]
  },
  {
   "cell_type": "markdown",
   "metadata": {
    "slideshow": {
     "slide_type": "subslide"
    }
   },
   "source": [
    "<p style=\"font-size:30px\"> When Ana finishes, her work will update the existing old version of the file</p>\n",
    "<div style=\"text-align: center;\">\n",
    "<img src=\"assets/illlustrations/correct_workflow_f4.png\" width=\"40%\">\n",
    "</div>"
   ]
  },
  {
   "cell_type": "markdown",
   "metadata": {
    "slideshow": {
     "slide_type": "skip"
    }
   },
   "source": [
    "<p style=\"font-size:30px\">From the command line..</p>\n",
    "<ul style=\"color:#000000;font-size:20px\">\n",
    "    <li><b>git checkout main</b> to move to the main branch</li>\n",
    "    <li><b>git merge BRANCH_NAME</b> to merge her branch to the main</li>\n",
    "    <li><b>git push origin main</b> to send changes to the remote repository in main</li>\n",
    "</ul>\n",
    "<p style=\"font-size:25px\">Optional</p>\n",
    "<ul style=\"color:#000000;font-size:20px\">\n",
    "    <li><b>git branch -d BRANCH_NAME</b> to delete <em>locally</em> the branch you won't use anymore</li>\n",
    "    <li><b>git push origin :BRANCH_NAME</b> to delete the branch you won't use anymore <em>remotely</em></li>\n",
    "</ul>"
   ]
  },
  {
   "cell_type": "markdown",
   "metadata": {
    "slideshow": {
     "slide_type": "subslide"
    }
   },
   "source": [
    "<p style=\"font-size:30px\"> When Bob finishes her work, we update the existing file, leading us to the final version of the document</p>\n",
    "<p style=\"font-size:25px\"> Everything in <b>one single file</b>! </p>\n",
    "<div style=\"text-align: center;\">\n",
    "<img src=\"assets/illlustrations/correct_workflow_f5.png\" width=\"40%\" class=\"center\">\n",
    "</div>"
   ]
  },
  {
   "cell_type": "markdown",
   "metadata": {
    "slideshow": {
     "slide_type": "subslide"
    }
   },
   "source": [
    "<p style=\"font-size:30px\">To summarize</p> \n",
    "<img src=\"assets/illlustrations/local_remote_summary.png\" width=\"15%\" style=\"float:right;\">\n",
    "<ul style=\"color:#000000; font-size:20px; float: left; max-width: 800px; border-right:solid 1px;\">\n",
    "    <li>You use <b>git push</b> and <b>git pull</b> to communicate between local and remote repository</li>\n",
    "    <li>Every time you start working on something new, you create a new branch (<b>git checkout -b NEW_BRANCH</b>)</li>\n",
    "    <li>You <b>git add .</b> the modified files and you <b>git commit</b> every time you need a \"checkpoint\"</li>\n",
    "    <li>When you are done working on a \"feature\" you <b>git merge</b> the branch with main</li>\n",
    "    <li>If you don't need the branch anymore <b>git branch -d(elete)</b> the branch</li>\n",
    "</ul>"
   ]
  },
  {
   "cell_type": "markdown",
   "metadata": {
    "slideshow": {
     "slide_type": "slide"
    }
   },
   "source": [
    "<p style=\"color:#00BDFF;font-size:30px\"> Examples/Applications of Version Control </p>\n",
    "<p style=\"color:#000000;font-size:20px\"> <b> Python packages development: </b> Packages stored in remote repositories to distribute them with conda </p>\n",
    "\n",
    "\n",
    "<table width=\"100%\" border=\"0\">\n",
    "  <tr>    \n",
    "  <td><img src=\"assets/images/isnumber_python_conda.jpg\" alt=\"\" align=\"left\" /></td>\n",
    "  <td><img src=\"assets/images/isnumber_python_github.jpg\" alt=\"\" align=\"center\" /></td>\n",
    "  </tr>\n",
    "</table>\n"
   ]
  },
  {
   "cell_type": "markdown",
   "metadata": {
    "slideshow": {
     "slide_type": "subslide"
    }
   },
   "source": [
    "<p style=\"color:#000000;font-size:20px\"> <b> R packages development: </b> Packages stored in remote repositories to distribute them with <font face=\"Courier New\"><b> install_github</b> </font> </p>\n",
    "\n",
    "<table width=\"100%\" border=\"0\">\n",
    "  <tr>    \n",
    "  <td><img src=\"assets/images/ggplot2_github_repo.jpg\" alt=\"\" align=\"left\" /></td>\n",
    "  <td><img src=\"assets/images/ggplot2_readme.jpg\" alt=\"\" align=\"center\" /></td>\n",
    "  </tr>\n",
    "</table>\n"
   ]
  },
  {
   "cell_type": "markdown",
   "metadata": {
    "slideshow": {
     "slide_type": "subslide"
    }
   },
   "source": [
    "<p style=\"color:#000000;font-size:20px\"> <b> Personal projects: </b> Publications, collaborative academic projects </p>\n",
    "\n",
    "<table width=\"100%\" height=\"100%\" border=\"0\">\n",
    "  <tr>   \n",
    "      <td style=\"width:20%\"> <b> Bob's local repository </b> <img src=\"assets/images/mv_computer1.jpg\" alt=\"\"/></td>  \n",
    "  <td style=\"width:40%\"> <b> Remote repository </b> <img src=\"assets/images/mv_github_repo.jpg\" alt=\"\" /></td> \n",
    "  <td style=\"width:20%\"> <b> Ana's local repository </b> <img  src=\"assets/images/mv_computer2.jpg\" alt=\"\"/></td>  \n",
    "  </tr>\n",
    " \n",
    "</table>"
   ]
  },
  {
   "cell_type": "markdown",
   "metadata": {
    "slideshow": {
     "slide_type": "subslide"
    }
   },
   "source": [
    "<p style=\"color:#000000;font-size:20px\"> <b> Create blogs or personal websites </b> </p>\n",
    "\n",
    "<table width=\"100%\" height=\"100%\" border=\"0\">\n",
    "  <tr>    \n",
    "  <td style=\"height:100%\"><img height=\"100%\" src=\"assets/images/website_github2.jpg\" alt=\"\" align=\"left\" /></td>  \n",
    "  <td style=\"height:100%\"><img height=\"100%\" src=\"assets/images/website_github.jpg\" alt=\"\" align=\"right\" /></td>  \n",
    "  </tr>\n",
    "</table>"
   ]
  }
 ],
 "metadata": {
  "kernelspec": {
   "display_name": "Python 3",
   "language": "python",
   "name": "python3"
  },
  "language_info": {
   "codemirror_mode": {
    "name": "ipython",
    "version": 3
   },
   "file_extension": ".py",
   "mimetype": "text/x-python",
   "name": "python",
   "nbconvert_exporter": "python",
   "pygments_lexer": "ipython3",
   "version": "3.7.7"
  }
 },
 "nbformat": 4,
 "nbformat_minor": 4
}
