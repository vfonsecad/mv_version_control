{
 "cells": [
  {
   "cell_type": "code",
   "execution_count": 1,
   "metadata": {
    "slideshow": {
     "slide_type": "skip"
    }
   },
   "outputs": [],
   "source": [
    "# --- presentation version control\n",
    "# by: marco and valeria"
   ]
  },
  {
   "cell_type": "markdown",
   "metadata": {
    "slideshow": {
     "slide_type": "slide"
    }
   },
   "source": [
    "<p style=\"color:#00BDFF;font-size:60px\"> Version control: Training For Basic Tools </p>\n",
    "<p style=\"color:#acb1bd;font-size:40px\"> by: Valeria and Marco </p>"
   ]
  },
  {
   "cell_type": "markdown",
   "metadata": {
    "slideshow": {
     "slide_type": "subslide"
    }
   },
   "source": [
    "<p style=\"color:#00BDFF;font-size:30px\"> Why version control? </p>\n",
    "<img src=\"example.jpg\">"
   ]
  },
  {
   "cell_type": "markdown",
   "metadata": {
    "slideshow": {
     "slide_type": "slide"
    }
   },
   "source": [
    "<p style=\"color:#00BDFF;font-size:30px\"> Why version control? </p>\n",
    "<p style=\"font-size:20px\"> Has this ever happened to you? </p>"
   ]
  },
  {
   "cell_type": "markdown",
   "metadata": {
    "slideshow": {
     "slide_type": "subslide"
    }
   },
   "source": [
    "<p style=\"font-size:30px\"> You are writing a report and you want some feedback </p>\n",
    "<img src=\"illlustrations/problematic_workflow1.png\" width=\"70%\" class=\"center\">"
   ]
  },
  {
   "cell_type": "markdown",
   "metadata": {
    "slideshow": {
     "slide_type": "subslide"
    }
   },
   "source": [
    "<p style=\"font-size:30px\"> You send it to And and Bob, while <b>you keep working on yours</b> </p>\n",
    "<img src=\"illlustrations/problematic_workflow2.png\" width=\"70%\" class=\"center\">"
   ]
  },
  {
   "cell_type": "markdown",
   "metadata": {
    "slideshow": {
     "slide_type": "subslide"
    }
   },
   "source": [
    "<p style=\"font-size:30px\"> They modify and comment their versions of the document </p>\n",
    "<img src=\"illlustrations/problematic_workflow3.png\" width=\"70%\" class=\"center\">"
   ]
  },
  {
   "cell_type": "markdown",
   "metadata": {
    "slideshow": {
     "slide_type": "subslide"
    }
   },
   "source": [
    "<p style=\"font-size:30px\">Now you have many files <b>all slightly different</b> and you have to put them all together manually!</p>\n",
    "<img src=\"illlustrations/problematic_workflow4.png\" width=\"70%\" class=\"center\">"
   ]
  },
  {
   "cell_type": "markdown",
   "metadata": {
    "slideshow": {
     "slide_type": "slide"
    }
   },
   "source": [
    "<p style=\"color:#00BDFF;font-size:30px\"> Why version control? </p>\n",
    "<p style=\"font-size:20px\"> With version control you won't have this problem anymore! </p>"
   ]
  },
  {
   "cell_type": "markdown",
   "metadata": {
    "slideshow": {
     "slide_type": "subslide"
    }
   },
   "source": [
    "<p style=\"font-size:30px\"> Here's how it works! </p>\n",
    "<img src=\"illlustrations/correct_workflow1.png\" width=\"40%\" class=\"center\">"
   ]
  },
  {
   "cell_type": "markdown",
   "metadata": {
    "slideshow": {
     "slide_type": "subslide"
    }
   },
   "source": [
    "<p style=\"font-size:30px\"> Each user creates a <b>branch</b> </p>\n",
    "<img src=\"illlustrations/correct_workflow2.png\" width=\"40%\" class=\"center\">"
   ]
  },
  {
   "cell_type": "markdown",
   "metadata": {
    "slideshow": {
     "slide_type": "subslide"
    }
   },
   "source": [
    "<p style=\"font-size:30px\"> Collaborators make their <b>modifications</b> </p>\n",
    "<img src=\"illlustrations/correct_workflow3.png\" width=\"40%\" class=\"center\">"
   ]
  },
  {
   "cell_type": "markdown",
   "metadata": {
    "slideshow": {
     "slide_type": "subslide"
    }
   },
   "source": [
    "<p style=\"font-size:30px\"> And also yourself! </p>\n",
    "<img src=\"illlustrations/correct_workflow4.png\" width=\"40%\" class=\"center\">"
   ]
  },
  {
   "cell_type": "markdown",
   "metadata": {
    "slideshow": {
     "slide_type": "subslide"
    }
   },
   "source": [
    "<p style=\"font-size:30px\"> When Ana finishes her work, we <b>merge</b> her branch </p>\n",
    "<img src=\"illlustrations/correct_workflow5.png\" width=\"40%\" class=\"center\">"
   ]
  },
  {
   "cell_type": "markdown",
   "metadata": {
    "slideshow": {
     "slide_type": "subslide"
    }
   },
   "source": [
    "<p style=\"font-size:30px\"> When Bob finishes her work, we <b>merge</b> his branch, leading us to the final version of the document </p>\n",
    "<p style=\"font-size:25px\"> Everything in <b>one single file</b>! </p>\n",
    "<img src=\"illlustrations/correct_workflow6.png\" width=\"40%\" class=\"center\">"
   ]
  }
 ],
 "metadata": {
  "kernelspec": {
   "display_name": "Python 3",
   "language": "python",
   "name": "python3"
  },
  "language_info": {
   "codemirror_mode": {
    "name": "ipython",
    "version": 3
   },
   "file_extension": ".py",
   "mimetype": "text/x-python",
   "name": "python",
   "nbconvert_exporter": "python",
   "pygments_lexer": "ipython3",
   "version": "3.7.4"
  }
 },
 "nbformat": 4,
 "nbformat_minor": 4
}
